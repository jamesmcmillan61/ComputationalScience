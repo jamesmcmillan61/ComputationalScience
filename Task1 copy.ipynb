{
 "cells": [
  {
   "cell_type": "markdown",
   "metadata": {},
   "source": [
    "# Task 1\n",
    "\n"
   ]
  },
  {
   "cell_type": "code",
   "execution_count": 47,
   "metadata": {},
   "outputs": [
    {
     "name": "stdout",
     "output_type": "stream",
     "text": [
      "X value : \n",
      " 1\n",
      "Y value : \n",
      " 0\n"
     ]
    }
   ],
   "source": [
    "import numpy as np\n",
    "\n",
    "# To generate a random number with a uniform distribution - random.Generator.uniform(low=0.0, high=1.0, size=None) \n",
    "UpCount = 0\n",
    "DownCount = 0\n",
    "LeftCount = 0\n",
    "rightCount = 0\n",
    "#Sets inishal value \n",
    "XValue = 50\n",
    "YValue = 50\n",
    "\n",
    "LoopCount = 0\n",
    "\n",
    "while(LoopCount < 100):\n",
    "    #X=rand1; Y=rand2\n",
    "    XRandom = np.random.randint(low=0, high=2, size=None)\n",
    "    YRandom = np.random.randint(low=0, high=2, size=None)\n",
    "\n",
    "    print(\"X value : \\n\", XRandom)\n",
    "    print(\"Y value : \\n\", YRandom)\n",
    "\n",
    "    #If X=1 and Y=1 Move up\n",
    "    #If X=1 and Y=0 Move down\n",
    "    #If X=0 and Y=1 move left\n",
    "    #If X=0 and Y=0 move right\n",
    "    if(XRandom == 1 & YRandom == 1):\n",
    "        YValue = YValue + 1\n",
    "        UpCount = UpCount + 1\n",
    "    elif(XRandom == 1 & YRandom == 0):\n",
    "        YValue = YValue - 1\n",
    "        DownCount = DownCount + 1\n",
    "    elif(XRandom == 0 & YRandom == 1):\n",
    "        XValue = XValue - 1\n",
    "        LeftCount = LeftCount + 1\n",
    "    elif(XRandom == 0 & YRandom == 0):\n",
    "        XValue = XValue + 1\n",
    "        rightCount = rightCount + 1\n",
    "    \n",
    "\n",
    "    LoopCount = LoopCount + 1\n",
    "\n",
    "print(\"UP\", UpCount)\n",
    "print(\"Down\", DownCount)\n",
    "print(\"Left\", LeftCount)\n",
    "print(\"Right\", rightCount)\n",
    "\n",
    "\n"
   ]
  }
 ],
 "metadata": {
  "kernelspec": {
   "display_name": "Python 3",
   "language": "python",
   "name": "python3"
  },
  "language_info": {
   "codemirror_mode": {
    "name": "ipython",
    "version": 3
   },
   "file_extension": ".py",
   "mimetype": "text/x-python",
   "name": "python",
   "nbconvert_exporter": "python",
   "pygments_lexer": "ipython3",
   "version": "3.11.9"
  }
 },
 "nbformat": 4,
 "nbformat_minor": 2
}
