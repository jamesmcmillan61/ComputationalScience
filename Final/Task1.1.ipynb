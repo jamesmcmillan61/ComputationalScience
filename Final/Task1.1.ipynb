{
 "cells": [
  {
   "cell_type": "markdown",
   "metadata": {},
   "source": [
    "# Task 1.1\n",
    "* Take a 100X100 grid. You will need to simulate the movement of a cell (like the grey cell in the figure above). \n",
    "* You will need to run the algorithm for a 100 steps, and plot the movement of the cell and if required for more steps."
   ]
  },
  {
   "cell_type": "code",
   "execution_count": null,
   "metadata": {},
   "outputs": [],
   "source": [
    "# Imports reqired packages \n",
    "import numpy as np\n",
    "import random\n",
    "import matplotlib.pyplot as plt\n"
   ]
  },
  {
   "cell_type": "code",
   "execution_count": null,
   "metadata": {},
   "outputs": [],
   "source": [
    "# Defines the inishal peramtiers \n",
    "GridSize = 100\n",
    "NumberOfLoops = 100\n",
    "\n",
    "NumberOfUps = 0\n",
    "NumberofDowns = 0\n",
    "NumberOfLefts = 0\n",
    "NumberOfRights = 0"
   ]
  },
  {
   "cell_type": "code",
   "execution_count": null,
   "metadata": {},
   "outputs": [],
   "source": [
    "# Creates the grid \n",
    "Grid = np.zeros((GridSize, GridSize))\n",
    "# print(Grid)\n",
    "# Calculates the inishal starting point -- assumes grid is squair \n",
    "InitalX = GridSize//2\n",
    "InitalY = GridSize//2\n",
    "\n",
    "\n",
    "# set current to inishal \n",
    "currentX = InitalX\n",
    "currentY = InitalY\n"
   ]
  },
  {
   "cell_type": "code",
   "execution_count": null,
   "metadata": {},
   "outputs": [],
   "source": [
    "# UpdateACount\n",
    "\n",
    "def MoveDirectionCount(x,y):\n",
    "    global NumberOfUps, NumberofDowns, NumberOfLefts, NumberOfRights\n",
    "    if x == currentX + 1:\n",
    "        NumberOfRights = NumberOfRights + 1\n",
    "    elif x == currentX - 1:\n",
    "        NumberOfLefts = NumberOfLefts+ 1\n",
    "    elif y == currentY + 1:\n",
    "        NumberOfUps = NumberOfUps + 1\n",
    "    elif y == currentY - 1:\n",
    "        NumberofDowns = NumberofDowns + 1"
   ]
  },
  {
   "cell_type": "code",
   "execution_count": null,
   "metadata": {},
   "outputs": [],
   "source": [
    "# Choose a new location to move to  8 direction\n",
    "def MoveLocation8direction(Current_x, Current_y, Grid):\n",
    "    # Generates a list of avalible moves, if avalible moves = 0 then retunrs the values given as a end value \n",
    "\n",
    "    # Generates a list of all of the positions that havent been filled - \n",
    "    UnfilledPositions = np.where(Grid == 0)\n",
    "    UnfilledSet = set(zip(UnfilledPositions[0], UnfilledPositions[1]))\n",
    "\n",
    " #   print(UnfilledSet)\n",
    "    # Calculates what cells are around it \n",
    "    CellsAround = [(Current_x - 1, Current_y - 1), (Current_x - 1, Current_y), (Current_x - 1, Current_y + 1),(Current_x, Current_y - 1), (Current_x, Current_y + 1),(Current_x + 1, Current_y - 1), (Current_x + 1, Current_y), (Current_x + 1, Current_y + 1)]\n",
    "\n",
    "#    print(CellsAround)\n",
    "    # checks to see if these cells are in the UnfilledPositions \n",
    "    ValliedCells = [cell for cell in CellsAround if cell in UnfilledSet]\n",
    "\n",
    "#    print(ValliedCells)\n",
    "    # checks if their is any, and picks one of these \n",
    "    if ValliedCells:\n",
    "        print(\"Has values\")\n",
    "\n",
    "        # Selects one of the values from the list, does this by picking from the list using a unifrom distribution\n",
    "        Selected = random.choice(ValliedCells)\n",
    "        return Selected[0], Selected[1]\n",
    "    else:\n",
    "        print(\"No Values left ****\")\n",
    "        return Current_x, Current_y\n",
    "    # returns this \n",
    "\n",
    "\n",
    "    return None"
   ]
  },
  {
   "cell_type": "code",
   "execution_count": null,
   "metadata": {},
   "outputs": [],
   "source": [
    "# Choose a new location to move to \n",
    "def MoveLocation4direction(Current_x, Current_y):\n",
    "    # Generates a list of avalible moves, if avalible moves = 0 then retunrs the values given as a end value \n",
    "\n",
    "    # Generates a list of all of the positions that havent been filled - \n",
    "    # UnfilledSet = set(zip(Grid[0], Grid[1]))\n",
    "\n",
    "    UnfilledPositions = np.where(Grid == 0)\n",
    "    UnfilledSet = set(zip(UnfilledPositions[0], UnfilledPositions[1]))\n",
    "\n",
    "    #print(UnfilledSet)\n",
    "    # Calculates what cells are around it \n",
    "    CellsAround = [ (Current_x - 1, Current_y),(Current_x, Current_y - 1), (Current_x, Current_y + 1), (Current_x + 1, Current_y)]\n",
    "\n",
    "    #print(CellsAround)\n",
    "    # checks to see if these cells are in the UnfilledPositions \n",
    "    ValliedCells = [cell for cell in CellsAround if cell in UnfilledSet]\n",
    "\n",
    "\n",
    "    # Selects one of the values from the list, does this by picking from the list using a unifrom distribution\n",
    "    Selected = random.choice(ValliedCells)\n",
    "\n",
    "    # updates count of direction moves \n",
    "    MoveDirectionCount(Selected[0], Selected[1])\n",
    "    return Selected[0], Selected[1]\n",
    "   "
   ]
  },
  {
   "cell_type": "code",
   "execution_count": null,
   "metadata": {},
   "outputs": [],
   "source": [
    "# Display a graph for how many it picked of each type\n",
    "def GraphForDirectionPicked():\n",
    "    directions = ['North', 'South', 'West', 'East',\"SW\",\"NW\",\"SE\",\"NE\"]\n",
    "    counts = [NumberOfUps, NumberofDowns, NumberOfLefts, NumberOfRights]\n",
    "\n",
    "\n",
    "    # Calculate the mean\n",
    "    mean_count = np.mean(counts)\n",
    "    # Plot the bar chart\n",
    "    plt.bar(directions, counts, color='grey')\n",
    "    plt.axhline(mean_count, color='orange', linewidth=1, label=f'Mean: {mean_count:.2f}')\n",
    "    plt.title('Number of movements')\n",
    "    plt.xlabel('Direction')\n",
    "    plt.ylabel('Count')\n",
    "    plt.legend()\n",
    "    plt.show()\n",
    "    return None"
   ]
  },
  {
   "cell_type": "code",
   "execution_count": null,
   "metadata": {},
   "outputs": [],
   "source": [
    "Results = []\n",
    "for i in range(NumberOfLoops):\n",
    "   currentX, currentY =  MoveLocation4direction(currentX,currentY)\n",
    "   Results.append([currentX, currentY])\n",
    "\n",
    "NPResults = np.array(Results)\n",
    "\n",
    "# Plot a graph of the locations \n",
    "plt.scatter(NPResults[:, 0], NPResults[:, 1], c='blue', marker='o')\n",
    "plt.scatter(NPResults[0, 0], NPResults[0, 1], c='red', marker='o', label='Start Point')\n",
    "plt.title('Random Walk Scatter Plot')\n",
    "plt.xlabel('X Value')\n",
    "plt.ylabel('Y Value')\n",
    "plt.grid(True)\n",
    "plt.show()\n",
    "\n",
    "\n",
    "thing = GraphForDirectionPicked()\n"
   ]
  }
 ],
 "metadata": {
  "kernelspec": {
   "display_name": "Python 3",
   "language": "python",
   "name": "python3"
  },
  "language_info": {
   "codemirror_mode": {
    "name": "ipython",
    "version": 3
   },
   "file_extension": ".py",
   "mimetype": "text/x-python",
   "name": "python",
   "nbconvert_exporter": "python",
   "pygments_lexer": "ipython3",
   "version": "3.12.3"
  }
 },
 "nbformat": 4,
 "nbformat_minor": 2
}
